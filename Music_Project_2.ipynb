{
 "cells": [
  {
   "cell_type": "code",
   "execution_count": 2,
   "id": "a470d7a8",
   "metadata": {},
   "outputs": [],
   "source": [
    "#Our first function will take the training data (which we will specify in a later function) and plot points on a graph that we wont be able to see. This model of predicting is called THE k-nearest neighbors algorithm which uses data points proximity to create predictions. Through this first function we will get the prozimity of those points. \n",
    "def getNeighbors(trainingset, instance, k):\n",
    "    distances = []\n",
    "    for x in range(len(trainingset)):\n",
    "        dist = distance(trainingset[x], instance, k) + distance(instance,trainingset[x],k)\n",
    "        distances.append((trainingset[x][2], dist))\n",
    "    distances.sort(key=operator.itemgetter(1))\n",
    "    neighbors = []\n",
    "    for x in range(k):\n",
    "        neighbors.append(distances[x][0])\n",
    "    return neighbors"
   ]
  },
  {
   "cell_type": "code",
   "execution_count": null,
   "id": "2d8624a0",
   "metadata": {},
   "outputs": [],
   "source": [
    "#We will need these 2 packages, the first package will help us ectract the features of the files and the second package will help us read the files that are in '.wav' format.\n",
    "!pip install python_speech_features\n",
    "!pip install scipy\n",
    "\n",
    "#We will then import the following packages to help read the data and built the machine learning model.\n",
    "import numpy as np\n",
    "import pandas as pd\n",
    "import scipy.io.wavfile as wav #Will help get the sample rate of the '.wav' file\n",
    "from python_speech_features import mfcc #feature extraction for audio\n",
    "from tempfile import TemporaryFile\n",
    "import os\n",
    "import math\n",
    "import pickle\n",
    "import random\n",
    "import operator"
   ]
  },
  {
   "cell_type": "code",
   "execution_count": 3,
   "id": "f7002ab3",
   "metadata": {},
   "outputs": [],
   "source": [
    "#This next function will build upon the previous and sort the nighbor points based on the genre while also storing the genre with the highest neighbor count.\n",
    "def nearestclass(neighbors):\n",
    "    classVote = {}\n",
    "    \n",
    "    for x in range(len(neighbors)):\n",
    "        response = neighbors[x]\n",
    "        if response in classVote:\n",
    "            classVote[response] += 1\n",
    "        else:\n",
    "            classVote[response] = 1\n",
    "            \n",
    "    sorter = sorted(classVote.items(), key=operator.itemgetter(1), reverse=True)\n",
    "    return sorter[0][0]"
   ]
  },
  {
   "cell_type": "code",
   "execution_count": 4,
   "id": "1e7725e7",
   "metadata": {},
   "outputs": [],
   "source": [
    "#Acurracy Calculator to predict how accurate our model will be.\n",
    "def getAccuracy(testSet, prediction):\n",
    "    correct = 0\n",
    "    for x in range(len(testSet)):\n",
    "        if testSet[x][-1] == prediction[x]:\n",
    "            correct += 1\n",
    "    return 1.0 * correct / len(testSet) #We divide correct predictions by total predictions to get a percentage of accuracy. "
   ]
  },
  {
   "cell_type": "code",
   "execution_count": 5,
   "id": "f4646d28",
   "metadata": {},
   "outputs": [],
   "source": [
    "#We now need to specify the directory which will depend on where dataset it held.\n",
    " #directory = 'C:/Users/Brianrod/Downloads/music1/IA/data_out'\n",
    "directory = 's3://music-data-br/data_out'"
   ]
  },
  {
   "cell_type": "code",
   "execution_count": 16,
   "id": "b574ce57",
   "metadata": {},
   "outputs": [
    {
     "name": "stdout",
     "output_type": "stream",
     "text": [
      "<_io.BufferedWriter name='mydataset.dat'>\n"
     ]
    }
   ],
   "source": [
    "#We will now extract the features from the data and might take a few minutes.\n",
    "f = open(\"mydataset.dat\", \"wb\") #New File where \n",
    "i = 0\n",
    "for folder in os.listdir(directory):\n",
    "    #print(folder)\n",
    "    i += 1\n",
    "    if i == 11:\n",
    "        break\n",
    "    for file in os.listdir(directory+\"/\"+folder): #We go through all .wav files in the dataset.\n",
    "        #print(file) \n",
    "        try:\n",
    "            (rate, sig) = wav.read(directory+\"/\"+folder+\"/\"+file)\n",
    "            mfcc_feat = mfcc(sig, rate, winlen = 0.020, appendEnergy=False) #Divide the audio file to 20ms long frames to capture different frquencies in the file.\n",
    "            covariance = np.cov(np.matrix.transpose(mfcc_feat)) #Identifying linguistic data from the noise.\n",
    "            mean_matrix = mfcc_feat.mean(0)\n",
    "            feature = (mean_matrix, covariance, i)\n",
    "            pickle.dump(feature, f) #Place features into created file through pickle\n",
    "        except Exception as e: #those that are not read as a .wav files will be excluded\n",
    "            print(\"Got an exception: \", e, 'in folder: ', folder, ' filename: ', file)\n",
    "f.close()"
   ]
  },
  {
   "cell_type": "code",
   "execution_count": 7,
   "id": "e9145349",
   "metadata": {},
   "outputs": [
    {
     "name": "stdout",
     "output_type": "stream",
     "text": [
      "[[ 75.3168253  -10.90220637 -17.78203734 ... -11.72426556   9.0288015\n",
      "    5.31804317]\n",
      " [ 79.89728209  -9.96502152 -13.343992   ... -21.22692205  -1.87134395\n",
      "    2.471097  ]\n",
      " [ 79.97786824  -9.33628398 -10.40629862 ... -21.94690184  -0.79591599\n",
      "    3.97585499]\n",
      " ...\n",
      " [ 81.26569403 -11.91406521 -15.5590391  ...  11.31647654   3.13291442\n",
      "   -5.93571387]\n",
      " [ 79.99956125  -8.796024   -19.54259644 ...  -0.24466639  -6.12410176\n",
      "   -5.59057078]\n",
      " [ 78.57661837  -6.28589311 -21.92604164 ...  -4.65797261  -8.25431975\n",
      "   -1.30158522]]\n"
     ]
    }
   ],
   "source": [
    "print(mfcc_feat)"
   ]
  },
  {
   "cell_type": "code",
   "execution_count": 8,
   "id": "d7e533f7",
   "metadata": {},
   "outputs": [],
   "source": [
    "#Now we will plot the dataset to train and test\n",
    "dataset = []\n",
    "\n",
    "def loadDataset(filename, split, trset, teset):\n",
    "    with open('mydataset.dat','rb') as f: #Using our dataset containing features\n",
    "        while True:\n",
    "            try:\n",
    "                dataset.append(pickle.load(f))\n",
    "            except EOFError:\n",
    "                f.close()\n",
    "                break\n",
    "    for x in range(len(dataset)):\n",
    "        if random.random() < split: #We randomly split the data for test and training\n",
    "            trset.append(dataset[x])\n",
    "        else:\n",
    "            teset.append(dataset[x])\n",
    "\n",
    "trainingSet = []\n",
    "testSet = []\n",
    "loadDataset('my.dat', 0.68, trainingSet, testSet)"
   ]
  },
  {
   "cell_type": "code",
   "execution_count": 9,
   "id": "51a90b48",
   "metadata": {},
   "outputs": [],
   "source": [
    "#This function will calculate the distance \n",
    "def distance(instance1, instance2, k):\n",
    "    distance = 0\n",
    "    mm1 = instance1[0]\n",
    "    cm1 = instance1[1]\n",
    "    mm2 = instance2[0]\n",
    "    cm2 = instance2[1]\n",
    "    distance = np.trace(np.dot(np.linalg.inv(cm2), cm1))\n",
    "    distance += (np.dot(np.dot((mm2-mm1).transpose(), np.linalg.inv(cm2)), mm2-mm1))\n",
    "    distance += np.log(np.linalg.det(cm2)) - np.log(np.linalg.det(cm1))\n",
    "    distance -= k\n",
    "    return distance"
   ]
  },
  {
   "cell_type": "code",
   "execution_count": 10,
   "id": "9fce9e0e",
   "metadata": {},
   "outputs": [
    {
     "name": "stdout",
     "output_type": "stream",
     "text": [
      "0.6903440621531631\n"
     ]
    }
   ],
   "source": [
    "# Making the prediction using KNN\n",
    "length = len(testSet)\n",
    "predictions = []\n",
    "for x in range(length):\n",
    "    predictions.append(nearestclass(getNeighbors(trainingSet, testSet[x], 5))) #As we have previously defined all our functions, we only need to call them now. Nearest class will help identify the genre of music through KNN algorithm.\n",
    "\n",
    "accuracy1 = getAccuracy(testSet, predictions)#Accuracy of model function is called to determine % of correct predictions.\n",
    "print(accuracy1)"
   ]
  },
  {
   "cell_type": "code",
   "execution_count": 11,
   "id": "1b47da6f",
   "metadata": {},
   "outputs": [],
   "source": [
    "#We identify results variable to test out new .wav data will out model\n",
    "from collections import defaultdict\n",
    "results = defaultdict(int)\n",
    "#New Audio is inputted into the model by redefining 'directory' to the location of the new data.\n",
    "i = 1\n",
    "for folder in os.listdir(directory):\n",
    "    results[i] = folder #We create a dictionary where the value will be the genre name.\n",
    "    i += 1"
   ]
  },
  {
   "cell_type": "code",
   "execution_count": 12,
   "id": "2e03e146",
   "metadata": {},
   "outputs": [
    {
     "name": "stdout",
     "output_type": "stream",
     "text": [
      "defaultdict(<class 'int'>, {1: '0', 2: '1', 3: '10', 4: '11', 5: '12', 6: '13', 7: '14', 8: '15', 9: '16', 10: '17', 11: '2', 12: '3', 13: '4', 14: '5', 15: '6', 16: '7', 17: '8', 18: '9'})\n"
     ]
    }
   ],
   "source": [
    "print(results)"
   ]
  },
  {
   "cell_type": "code",
   "execution_count": 13,
   "id": "ab33112a",
   "metadata": {},
   "outputs": [],
   "source": [
    "pred = nearestclass(getNeighbors(dataset, feature, 8)) #This is where the algorithm comes altogether to predict the genre of the new data."
   ]
  },
  {
   "cell_type": "code",
   "execution_count": 14,
   "id": "5d3e8e27",
   "metadata": {},
   "outputs": [
    {
     "name": "stdout",
     "output_type": "stream",
     "text": [
      "17\n"
     ]
    }
   ],
   "source": [
    "print(results[pred]) # 'Pred' variable is used through the 'results' variable to determine the genre of the file."
   ]
  }
 ],
 "metadata": {
  "kernelspec": {
   "display_name": "Python 3 (ipykernel)",
   "language": "python",
   "name": "python3"
  },
  "language_info": {
   "codemirror_mode": {
    "name": "ipython",
    "version": 3
   },
   "file_extension": ".py",
   "mimetype": "text/x-python",
   "name": "python",
   "nbconvert_exporter": "python",
   "pygments_lexer": "ipython3",
   "version": "3.9.7"
  }
 },
 "nbformat": 4,
 "nbformat_minor": 5
}
